{
  "nbformat": 4,
  "nbformat_minor": 0,
  "metadata": {
    "colab": {
      "name": "[Soil Mechanics] Grain-Size Distribution Curve.ipynb",
      "provenance": [],
      "collapsed_sections": [],
      "toc_visible": true,
      "authorship_tag": "ABX9TyOKkcpQ9k1QE/rZBZmhoCnP",
      "include_colab_link": true
    },
    "kernelspec": {
      "name": "python3",
      "display_name": "Python 3"
    }
  },
  "cells": [
    {
      "cell_type": "markdown",
      "metadata": {
        "id": "view-in-github",
        "colab_type": "text"
      },
      "source": [
        "<a href=\"https://colab.research.google.com/github/nemo-algorithm/AI/blob/master/%5BSoil_Mechanics%5DGrain_Size_Distribution_Curve.ipynb\" target=\"_parent\"><img src=\"https://colab.research.google.com/assets/colab-badge.svg\" alt=\"Open In Colab\"/></a>"
      ]
    },
    {
      "cell_type": "markdown",
      "metadata": {
        "id": "xL7DODCajfG6",
        "colab_type": "text"
      },
      "source": [
        "# Draw Grain-Size Distribution Curve with python !\n",
        "\n",
        "> Created Date : 2020-09-16, Last Update : 2020-09-16<br>\n",
        "> Writer : Nemo (nemo-algorithm AT korea.ac.kr)\n",
        "\n",
        "토질역학 과제하다 파이썬 그래프 그리는 거 연습하려고 그냥 짜본 코드...지만 너무 손이 많이 갔다.<br>\n",
        "\n",
        "짠 거 아까워서 잔디나 심어야지 ~\n",
        "\n",
        "#### Data from Assignment\n",
        "\n",
        "|  체  |  3in  | 1.5in | 0.74in |  #4   |  #10  | #20  |  #40  |  #60  | #100  | #200 | Pan  |\n",
        "| :--: | :---: | :---: | :----: | :---: | :---: | :--: | :---: | :---: | :---: | :--: | :--: |\n",
        "|  A   | 0 | 212.3 | 142.6 | 209.1 | 152.2 | - | 93.6 | - | 52.8 | 61.6 | 32.3 |\n",
        "|  B   |  499  |  499  |  499   |  499  |  499  | 464  | 408.4 | 326.2 | 195.7 | 75.2 | 15.2 |\n"
      ]
    },
    {
      "cell_type": "code",
      "metadata": {
        "id": "e2FQnhjXlXIq",
        "colab_type": "code",
        "colab": {
          "base_uri": "https://localhost:8080/",
          "height": 72
        },
        "outputId": "8f2d6847-aeb2-4f36-a23a-1c43304ae620"
      },
      "source": [
        "import matplotlib.pyplot as plt\n",
        "import numpy as np\n",
        "import seaborn as sns\n",
        "import copy\n",
        "import bisect"
      ],
      "execution_count": 1,
      "outputs": [
        {
          "output_type": "stream",
          "text": [
            "/usr/local/lib/python3.6/dist-packages/statsmodels/tools/_testing.py:19: FutureWarning: pandas.util.testing is deprecated. Use the functions in the public API at pandas.testing instead.\n",
            "  import pandas.util.testing as tm\n"
          ],
          "name": "stderr"
        }
      ]
    },
    {
      "cell_type": "code",
      "metadata": {
        "id": "OKQ5WprKlHZP",
        "colab_type": "code",
        "colab": {}
      },
      "source": [
        "\"\"\"\n",
        "Data from Assignment\n",
        "\"\"\"\n",
        "grain_size = np.array([100, 50, 10, 5, 2, 1, 0.5, 0.2, 0.1, 0.05])\n",
        "sieve_num = np.array([\"3in\", \"1.5in\", \"0.74in\", \"#4\", \"#10\", \"#20\", \"#40\", \"#60\", \"#100\", \"#200\"])\n",
        "sieve_size = np.array([76.2, 38.1, 18.80, 4.750, 2.000, 0.850, 0.425, 0.250, 0.150, 0.075])\n",
        "A_sieve_size = np.array([76.2, 38.1, 18.80, 4.750, 2.000, 0.425, 0.150, 0.075])\n",
        "B_sieve_size = np.array([76.2, 38.1, 18.80, 4.750, 2.000, 0.850, 0.425, 0.250, 0.150, 0.075])\n",
        "A = np.array([0, 212.3, 142.6, 209.1, 152.2, 93.6, 52.8, 61.6, 32.3])\n",
        "B = np.array([0, 0, 0, 0, 35.0, 55.6, 82.2, 130.5, 120.5, 60.0, 15.2])"
      ],
      "execution_count": 2,
      "outputs": []
    },
    {
      "cell_type": "code",
      "metadata": {
        "id": "EM9oYeltX2m-",
        "colab_type": "code",
        "colab": {
          "base_uri": "https://localhost:8080/",
          "height": 105
        },
        "outputId": "7692d41d-2b29-4ec1-b0e8-fe473cde2b13"
      },
      "source": [
        "\"\"\"\n",
        "Data Preprocessing\n",
        "\"\"\"\n",
        "for i in range(len(A)-2, -1, -1): A[i] = A[i] + A[i+1]\n",
        "for i in range(len(B)-2, -1, -1): B[i] = B[i] + B[i+1]\n",
        "for i in reversed(range(len(A))): A[i] = A[i] * 100 / A[0]\n",
        "for i in reversed(range(len(B))): B[i] = B[i] * 100 / B[0]\n",
        "\n",
        "# show percent\n",
        "print(A)\n",
        "print(B)\n",
        "\n",
        "# remove Pan\n",
        "A, B = A[:-1], B[:-1]"
      ],
      "execution_count": 3,
      "outputs": [
        {
          "output_type": "stream",
          "text": [
            "[100.         100.          77.80449556  62.89597491  41.03502352\n",
            "  25.1228437   15.33716675   9.8170413    3.37689493]\n",
            "[100.         100.         100.         100.         100.\n",
            "  92.98597194  81.84368737  65.37074148  39.21843687  15.07014028\n",
            "   3.04609218]\n"
          ],
          "name": "stdout"
        }
      ]
    },
    {
      "cell_type": "markdown",
      "metadata": {
        "id": "DGFSX60rpEk7",
        "colab_type": "text"
      },
      "source": [
        "## 보간\n",
        "3차 스플라인 보간의 이계도함수를 깎았으며, f(x), inv(y) 함수를 구현하여 입경 계산을 편하게 하였다.\n",
        "\n",
        "뒤늦게 깨달은 점이 스플라인에 적합한 데이터가 아니었으며, 이를 수습하기 위해 어줍잖게 Smoothing을 해보았는데 곡선이 그리 예쁘지 않다.\n",
        "\n",
        "정점에서 미분 불가능하다는 점이 불편하지만, **Spline에 smoothing을 0으로 설정해보면 미분 가능한 그래프를 잘 그리긴 한다.** 하지만 3차 스플라인 곡선은 결정적이며 그래프를 보면 ... 좀 그렇다. 보간을 뺄까도 생각해보았고 로그 스케일에서 선형 보간해도 이상해서 많은 고민을 한 결과 이계도함수에 Smoothing을 가하기로 결정했다."
      ]
    },
    {
      "cell_type": "code",
      "metadata": {
        "id": "sBB9t2Bi29sW",
        "colab_type": "code",
        "colab": {}
      },
      "source": [
        "class Cubic:\n",
        "    def __init__(self, a, b, c, d, x_t):\n",
        "        smooth = 1.0\n",
        "        self.a, self.b, self.c, self.d, self.x_t = a , b * smooth, c * smooth, d * smooth, x_t * smooth\n",
        "\n",
        "    def f(self, x):\n",
        "        return self.d * ((x - self.x_t)**3) + self.c * ((x - self.x_t)**2) + self.b * (x - self.x_t) + self.a\n",
        "\n",
        "    def inv(self, y, x_l, x_r):\n",
        "        l, r = x_l, x_r\n",
        "        if(x_l<1.6): x_r = 0.053\n",
        "        while True:\n",
        "            m = (l + r) / 2\n",
        "            if self.f(m) >= y:\n",
        "                r = m\n",
        "            else: l = m\n",
        "            if r - l < 0.0001: return m\n",
        "\n",
        "class Spline:\n",
        "    \"\"\"\n",
        "    Cubic Spline Interpolation\n",
        "\n",
        "    Initialize : Spline(x, y, smooth=0.40)\n",
        "    function : f(x), inv(y)\n",
        "    * f, inv work on increasing discrete data\n",
        "\n",
        "    Reference Pseudo Code : https://en.wikipedia.org/wiki/Spline_(mathematics)\n",
        "    \"\"\"\n",
        "    def __init__(self, x, y, smooth=0.40):\n",
        "\n",
        "        assert len(x) == len(y), \"different length error\"\n",
        "        N = len(x) - 1\n",
        "\n",
        "        self.N = N\n",
        "        self.x = copy.deepcopy(x)\n",
        "        self.y = copy.deepcopy(y)\n",
        "        self.data = [Cubic(0, 0, 0, 0, 0)] * N\n",
        "\n",
        "        a = copy.deepcopy(y)\n",
        "        b, d, h, alpha = [0] * N, [0] * N, [0] * N, [0] * N\n",
        "        c, l, mu, z = [0] * (N+1), [0] * (N+1), [0] * (N+1), [0] * (N+1)\n",
        "\n",
        "        l[0], l[N] = 1, 1\n",
        "\n",
        "        for i in range(N):\n",
        "            h[i] = x[i+1] - x[i]\n",
        "            if i != 0:\n",
        "                alpha[i] = 3 * (a[i+1] - a[i]) / h[i] - 3 * (a[i] - a[i-1]) / h[i-1]\n",
        "\n",
        "        for i in range(1, N):\n",
        "            l[i] = 2 * (x[i+1] - x[i-1]) - h[i-1] * mu[i-1]\n",
        "            mu[i] = h[i] / l[i]\n",
        "            z[i] = (alpha[i] - h[i-1] * z[i-1]) / l[i]\n",
        "        \n",
        "        for i in range(N-1, -1, -1):\n",
        "            c[i] = smooth * z[i] - mu[i] * c[i+1]\n",
        "            b[i] = (a[i+1] - a[i]) / h[i] - h[i] * (c[i+1] + 2 * c[i]) / 3\n",
        "            d[i] = (c[i+1] - c[i]) / (3 * h[i])\n",
        "        \n",
        "        for i in range(N):\n",
        "            self.data[i] = Cubic(a[i], b[i], c[i], d[i], x[i])\n",
        "\n",
        "        for i in range(N-1, -1, -1):\n",
        "            \"\"\"\n",
        "            do not interpolate y == 100\n",
        "            \"\"\"\n",
        "            if y[i] == y[i+1]:\n",
        "                self.data[i] = Cubic(100, 0, 0, 0, x[i])\n",
        "            else: break\n",
        "\n",
        "    \n",
        "    def f(self, x):\n",
        "        index = bisect.bisect_right(self.x, x) - 1\n",
        "        if x < self.x[0]: index = 0\n",
        "        if x > self.x[-1] or index >= self.N: index = self.N - 1\n",
        "        return self.data[index].f(x)\n",
        "    \n",
        "    def inv(self, y):\n",
        "        index = bisect.bisect_right(self.y, y) - 1\n",
        "        if y < self.y[0]: index = 0\n",
        "        if y > self.y[-1] or index >= self.N: index = self.N - 1\n",
        "        return self.data[index].inv(y, self.x[index], self.x[index+1])\n",
        "\n",
        "A_spline = Spline(list(reversed(A_sieve_size)), list(reversed(A))) # a, b, c, d\n",
        "B_spline = Spline(list(reversed(B_sieve_size)), list(reversed(B)))\n",
        "\n",
        "A_X_interpolate = list(reversed(np.logspace(np.log10(A_sieve_size[-1]), np.log10(A_sieve_size[0]), 1000, base=10, endpoint=True).tolist()))\n",
        "B_X_interpolate = list(reversed(np.logspace(np.log10(B_sieve_size[-1]), np.log10(B_sieve_size[0]), 1000, base=10, endpoint=True).tolist()))\n",
        "A_interpolate = [A_spline.f(x) for x in A_X_interpolate]\n",
        "B_interpolate = [B_spline.f(x) for x in B_X_interpolate]"
      ],
      "execution_count": 4,
      "outputs": []
    },
    {
      "cell_type": "markdown",
      "metadata": {
        "id": "hIsXgfw4oQco",
        "colab_type": "text"
      },
      "source": [
        "## 그래프\n",
        "\n",
        "로그 스케일인 x축의 상단에 체의 크기를 정확한 위치에 표시하기 위해 나름의 공을 들였다."
      ]
    },
    {
      "cell_type": "code",
      "metadata": {
        "id": "fWNBjM2xsXdq",
        "colab_type": "code",
        "colab": {
          "base_uri": "https://localhost:8080/",
          "height": 508
        },
        "outputId": "5bcbd340-9d8e-47e7-ef81-2fb5ba7cf536"
      },
      "source": [
        "\"\"\"\n",
        "Draw Graph\n",
        "\"\"\"\n",
        "# setting\n",
        "sns.set_style(\"darkgrid\")\n",
        "fig = plt.figure(figsize=(10,7.5))\n",
        "ax = fig.add_subplot(1,1,1)\n",
        "\n",
        "# set x-axis (grain size)\n",
        "ax.set_xscale('log')\n",
        "ax.set_xlabel('grain size (mm)',fontdict = {\n",
        "    'family': 'DejaVu Sans', 'fontsize': 13, 'color': 'black'\n",
        "})\n",
        "ax.set_ylabel('percent (%)',fontdict = {\n",
        "    'family': 'DejaVu Sans', 'fontsize': 13, 'color': 'black'\n",
        "})\n",
        "ax.set_xlim(grain_size[0], grain_size[-1])\n",
        "ax.set_xticks(grain_size)\n",
        "ax.set_xticklabels(iter(grain_size))\n",
        "\n",
        "# set secondary axis (size2num)\n",
        "ax2 = ax.twiny()\n",
        "ax2.set_xscale('log')\n",
        "ax2.set_xlim(grain_size[0], grain_size[-1])\n",
        "ax2.set_ylim(0, 100.5)\n",
        "ax2.set_xticks(sieve_size)\n",
        "ax2.set_xticklabels(iter(sieve_num))\n",
        "\n",
        "# draw graph\n",
        "plt.title(\"Grain-Size Distribution Curve\", fontdict = {\n",
        "    'family': 'DejaVu Sans', 'fontsize': 16, 'color': 'black'\n",
        "})\n",
        "\n",
        "ax.plot(A_X_interpolate, A_interpolate, color='green')\n",
        "ax.plot(B_X_interpolate, B_interpolate, color='orange')\n",
        "\n",
        "ax.plot(A_sieve_size, A, color='green', linestyle='', marker='.', markersize=10)\n",
        "ax.plot(B_sieve_size, B, color='orange', linestyle='', marker='.', markersize=10)\n",
        "ax.legend(['A','B'], )\n",
        "plt.show()"
      ],
      "execution_count": 5,
      "outputs": [
        {
          "output_type": "display_data",
          "data": {
            "image/png": "[encoded data removed]",
            "text/plain": [
              "<Figure size 720x540 with 2 Axes>"
            ]
          },
          "metadata": {
            "tags": []
          }
        }
      ]
    },
    {
      "cell_type": "markdown",
      "metadata": {
        "id": "6MvuLNnxqp-C",
        "colab_type": "text"
      },
      "source": [
        "## Effective Size & Uniformity Coefficient, Coefficient of Gradation"
      ]
    },
    {
      "cell_type": "code",
      "metadata": {
        "id": "sGfVpUNic-0X",
        "colab_type": "code",
        "colab": {
          "base_uri": "https://localhost:8080/",
          "height": 52
        },
        "outputId": "76837e7f-bed7-45af-eb99-4c83e3ad5483"
      },
      "source": [
        "\"\"\"\n",
        "Calculate effective size\n",
        "\"\"\"\n",
        "A_D10, A_D30, A_D60 = A_spline.inv(10), A_spline.inv(30), A_spline.inv(60)\n",
        "B_D10, B_D30, B_D60 = B_spline.inv(10), B_spline.inv(30), B_spline.inv(60)\n",
        "print(A_D10, A_D30, A_D60)\n",
        "print(B_D10, B_D30, B_D60)"
      ],
      "execution_count": 6,
      "outputs": [
        {
          "output_type": "stream",
          "text": [
            "0.07741699218749999 0.8169235229492189 4.384010314941406\n",
            "0.0750732421875 0.12106933593749998 0.22783203125\n"
          ],
          "name": "stdout"
        }
      ]
    },
    {
      "cell_type": "code",
      "metadata": {
        "id": "Tk89Xh9ICOxA",
        "colab_type": "code",
        "colab": {
          "base_uri": "https://localhost:8080/",
          "height": 52
        },
        "outputId": "e4be4a66-c95a-4791-97b6-5b88dbf8fa3b"
      },
      "source": [
        "\"\"\"\n",
        "Calculate uniformity coefficient & coefficient of gradation\n",
        "\"\"\"\n",
        "A_Cu, A_Cc = A_D60 / A_D10, A_D30**2 / (A_D60 * A_D10)\n",
        "B_Cu, B_Cc = B_D60 / B_D10, B_D30**2 / (B_D60 * B_D10)\n",
        "print(A_Cu, A_Cc)\n",
        "print(B_Cu, B_Cc)"
      ],
      "execution_count": 7,
      "outputs": [
        {
          "output_type": "stream",
          "text": [
            "56.628528066855885 1.9663233738582613\n",
            "3.03479674796748 0.8569754215759042\n"
          ],
          "name": "stdout"
        }
      ]
    }
  ]
}